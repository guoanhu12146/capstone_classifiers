{
 "cells": [
  {
   "cell_type": "code",
   "execution_count": 28,
   "metadata": {},
   "outputs": [],
   "source": [
    "import joblib\n",
    "\n",
    "import numpy as np\n",
    "import pandas as pd\n",
    "\n",
    "import tensorflow as tf\n",
    "from tensorflow import keras\n",
    "from tensorflow.keras.preprocessing.text import Tokenizer\n",
    "from tensorflow.keras.preprocessing.sequence import pad_sequences\n",
    "\n",
    "import nltk\n",
    "import re\n",
    "\n",
    "def basic_tokenize(tweet):\n",
    "    \"\"\"Same as tokenize but without the stemming\"\"\"\n",
    "    tweet = \" \".join(re.split(\"[^a-zA-Z.,!?]*\", tweet.lower())).strip()\n",
    "    return tweet"
   ]
  },
  {
   "cell_type": "code",
   "execution_count": 29,
   "metadata": {},
   "outputs": [],
   "source": [
    "df = pd.read_csv(\"../data/hate_classes.tsv\", sep='\\t')\n",
    "# process text for embeddings\n",
    "text = df.Text.apply(basic_tokenize)\n",
    "\n",
    "tokenizer = Tokenizer(num_words=20000, split=' ', oov_token='<unw>', filters='')\n",
    "tokenizer.fit_on_texts(text.values)\n",
    "X = tokenizer.texts_to_sequences(text.values)\n",
    "X = pad_sequences(X, maxlen=200)\n",
    "\n",
    "Y = []\n",
    "for row in df.itertuples():\n",
    "    Y.append((row.RAE,row.NAT,row.SXO,row.GEN,row.REL,row.IDL,row.POL,row.MPH))\n",
    "Y = np.array(Y)"
   ]
  },
  {
   "cell_type": "code",
   "execution_count": 47,
   "metadata": {},
   "outputs": [
    {
     "name": "stdout",
     "output_type": "stream",
     "text": [
      "486/486 [==============================] - 0s 339us/sample - loss: 1.1395 - binary_accuracy: 0.9689\n"
     ]
    }
   ],
   "source": [
    "model = keras.models.load_model('../models/hate_classification.h5')\n",
    "from sklearn.model_selection import train_test_split\n",
    "x_train, x_test, y_train, y_test = train_test_split(X, Y, test_size=0.1)\n",
    "\n",
    "result = model.evaluate(x_test, y_test)"
   ]
  },
  {
   "cell_type": "code",
   "execution_count": 46,
   "metadata": {},
   "outputs": [
    {
     "name": "stdout",
     "output_type": "stream",
     "text": [
      "[1. 0. 0. 0. 0. 0. 0. 0.]\n",
      "&#8220;@Maxwell_Larsen: When you live this gay, you can't be afraid of two black dicks in your butt\" you fucking queer\n"
     ]
    }
   ],
   "source": [
    "df = pd.read_csv(\"../data/hate_sanity_check.tsv\", sep='\\t')\n",
    "text = df.tweet.apply(basic_tokenize)\n",
    "tokenizer = Tokenizer(num_words=20000, split=' ', oov_token='<unw>', filters='')\n",
    "tokenizer.fit_on_texts(text.values)\n",
    "T = tokenizer.texts_to_sequences(text.values)\n",
    "T = pad_sequences(T, maxlen=200)\n",
    "\n",
    "sample = 67\n",
    "result = model.predict(T)\n",
    "result = np.round(result)\n",
    "\n",
    "print(result[sample])\n",
    "# race, nationality, sex orentation, gender, religion, political identity, mental status\n",
    "# (row.RAE,row.NAT,row.SXO,row.GEN,row.REL,row.IDL,row.POL,row.MPH)\n",
    "print(df.loc[sample,:].tweet)"
   ]
  }
 ],
 "metadata": {
  "interpreter": {
   "hash": "9839dc81feffa0ef6b0305e2f8d6f48bfea3278be234a4dfafb21f6ff94f6b4b"
  },
  "kernelspec": {
   "display_name": "Python 3.6.14 64-bit ('3.6.14')",
   "language": "python",
   "name": "python3"
  },
  "language_info": {
   "codemirror_mode": {
    "name": "ipython",
    "version": 3
   },
   "file_extension": ".py",
   "mimetype": "text/x-python",
   "name": "python",
   "nbconvert_exporter": "python",
   "pygments_lexer": "ipython3",
   "version": "3.6.14"
  },
  "orig_nbformat": 4
 },
 "nbformat": 4,
 "nbformat_minor": 2
}
