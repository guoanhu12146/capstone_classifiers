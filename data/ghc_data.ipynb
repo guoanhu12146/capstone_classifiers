{
 "cells": [
  {
   "cell_type": "code",
   "execution_count": 20,
   "metadata": {},
   "outputs": [],
   "source": [
    "import pandas as pd\n",
    "\n",
    "df = pd.read_csv('../data/ghc_test.tsv', sep='\\t')\n",
    "\n",
    "newdf = dict()\n",
    "for rows in df.itertuples():\n",
    "    if rows.hd == 1:    \n",
    "        newdf[rows.text] = 0\n",
    "    elif rows.cv == 1:\n",
    "        newdf[rows.text] = 1\n",
    "    elif rows.vo == 1:\n",
    "        newdf[rows.text] = 1\n",
    "    else:\n",
    "        newdf[rows.text] = 2\n",
    "\n",
    "\n",
    "dfObj = pd.DataFrame(list(newdf.items()), index=[i for i in range(len(newdf))], columns=['text', 'classification'])\n",
    "dfObj.to_csv('../data/ghc_test_new.tsv', sep='\\t', index=False)\n",
    "\n",
    "dfObj.classification\n",
    "df = pd.read_csv(\"ghc_test_new.tsv\", sep='\\t')\n",
    "tweets=df.text\n",
    "y = df.classification.astype(int)"
   ]
  },
  {
   "cell_type": "code",
   "execution_count": 38,
   "metadata": {},
   "outputs": [],
   "source": [
    "# process hate_annotations so hate classes can be learned\n",
    "hate_annotations = pd.read_csv('../data/GabHateCorpus_annotations.tsv', sep='\\t')\n",
    "hate_data = hate_annotations[hate_annotations.Hate.eq(1)]\n",
    "hate_data = hate_data[hate_data.Annotator > 4].drop(['ID','HD', 'CV', 'VO', 'Hate', 'Annotator'], axis=1)\n",
    "hate_data.to_csv('../data/hate_classes.tsv', sep='\\t', index=False)\n"
   ]
  }
 ],
 "metadata": {
  "interpreter": {
   "hash": "413ea33f0152847ab3d2f5817a9f439d4472946fa41b2a13413b0d6243e798e4"
  },
  "kernelspec": {
   "display_name": "Python 3.8.8 64-bit ('base')",
   "language": "python",
   "name": "python3"
  },
  "language_info": {
   "codemirror_mode": {
    "name": "ipython",
    "version": 3
   },
   "file_extension": ".py",
   "mimetype": "text/x-python",
   "name": "python",
   "nbconvert_exporter": "python",
   "pygments_lexer": "ipython3",
   "version": "3.8.8"
  },
  "orig_nbformat": 4
 },
 "nbformat": 4,
 "nbformat_minor": 2
}
